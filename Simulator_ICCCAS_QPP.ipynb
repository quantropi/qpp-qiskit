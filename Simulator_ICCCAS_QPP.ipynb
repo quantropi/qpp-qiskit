{
 "cells": [
  {
   "cell_type": "code",
   "execution_count": 19,
   "id": "7fc3c7e5-e8e7-45bd-9b83-2093acdcff78",
   "metadata": {},
   "outputs": [
    {
     "name": "stderr",
     "output_type": "stream",
     "text": [
      "ibmqfactory.load_account:WARNING:2022-02-02 14:56:55,297: Credentials are already in use. The existing account in the session will be replaced.\n"
     ]
    }
   ],
   "source": [
    "import numpy as np\n",
    "\n",
    "# Importing standard Qiskit libraries\n",
    "from qiskit import QuantumCircuit, transpile, Aer, IBMQ\n",
    "from qiskit.tools.jupyter import *\n",
    "from qiskit.visualization import *\n",
    "from ibm_quantum_widgets import *\n",
    "from qiskit.providers.aer import QasmSimulator\n",
    "\n",
    "# Loading your IBM Quantum account(s)\n",
    "provider = IBMQ.load_account()"
   ]
  },
  {
   "cell_type": "code",
   "execution_count": 20,
   "id": "9775eef1-918d-4503-9d99-c99acd72add2",
   "metadata": {},
   "outputs": [],
   "source": [
    "#import all the necessary packages \n",
    "\n",
    "from qiskit import execute\n",
    "from qiskit import QuantumCircuit, assemble, Aer\n",
    "from qiskit.visualization import plot_histogram, plot_bloch_vector\n",
    "from qiskit.extensions import RXGate, XGate, CXGate, SwapGate\n",
    "from qiskit import execute\n",
    "from qiskit import QuantumCircuit, ClassicalRegister, QuantumRegister\n",
    "from qiskit import BasicAer\n",
    "from qiskit.compiler import transpile\n",
    "from qiskit.quantum_info.operators import Operator, Pauli\n",
    "from qiskit.quantum_info import process_fidelity\n",
    "from qiskit.quantum_info import Statevector\n",
    "from random import seed\n",
    "from random import randint\n",
    "from qiskit import QuantumCircuit, transpile\n",
    "from qiskit.providers.aer import AerSimulator"
   ]
  },
  {
   "cell_type": "code",
   "execution_count": 21,
   "id": "f0dae39f-f747-4aae-9d5c-aecd4ceb0036",
   "metadata": {},
   "outputs": [],
   "source": [
    "#define the components of permutation matrices from circuits using operator command\n",
    "\n",
    "c_1 = QuantumCircuit(2)\n",
    "c_1.x(0)\n",
    "NOT_top = Operator(c_1)\n",
    "\n",
    "c_2 = QuantumCircuit(2)\n",
    "c_2.x(1)\n",
    "NOT_bottom = Operator(c_2)\n",
    "\n",
    "\n",
    "c_3 = QuantumCircuit(2)\n",
    "c_3.cx(0,1)\n",
    "CNOT_top = Operator(c_3)\n",
    "\n",
    "\n",
    "c_4 = QuantumCircuit(2)\n",
    "c_4.cx(1,0)\n",
    "CNOT_bottom = Operator(c_4)\n",
    "\n",
    "c_5 = QuantumCircuit(2)\n",
    "c_5.swap(0,1)\n",
    "SWAP_two = Operator(c_5)\n",
    "\n",
    "I_1 = Operator(Pauli(label = \"I\"))\n",
    "I_2 = Operator(Pauli(label = \"I\"))"
   ]
  },
  {
   "cell_type": "code",
   "execution_count": 22,
   "id": "a5084f88-cd5c-42df-897e-b721a21f5b1a",
   "metadata": {},
   "outputs": [],
   "source": [
    "#defne the permutation operators themselves using the above components\n",
    "\n",
    "\n",
    "P_1 = I_1.tensor(I_2) #P_1 is an identity\n",
    "\n",
    "P_2 = NOT_bottom.compose(CNOT_top)  #P_2 written in cyclic notation is (0,1) \n",
    "\n",
    "P_3 = NOT_top.compose(CNOT_bottom)  #P_3 written in cyclic notation is (0,2)  \n",
    "\n",
    "#P_4_SWAP = NOT_top.compose(NOT_bottom).compose(SWAP_two)\n",
    "\n",
    "P_4 = NOT_top.compose(NOT_bottom).compose(CNOT_top).compose(CNOT_bottom).compose(CNOT_top)  #P_4 written in cyclic notation is (0,3) \n",
    "\n",
    "#P_5_SWAP = SWAP_two\n",
    "\n",
    "P_5 = CNOT_top.compose(CNOT_bottom).compose(CNOT_top)  #P_5 written in cyclic nottion is (1,2)\n",
    "\n",
    "P_6 = CNOT_bottom  # P_6 written in cyclic notation is (1,3) \n",
    "\n",
    "P_7 = CNOT_top  #P_7 written in cyclic notation is (2,3) \n",
    "\n",
    "P_8 = NOT_bottom  #P_8 written in cyclic notstion is (0,1)(2,3) \n",
    "\n",
    "P_9 = NOT_top  #P_9 written in cyclic notstion is (0,2)(1,3)\n",
    "\n",
    "P_10 = NOT_top.compose(NOT_bottom)  #P_10 written in cyclic notation is (0,3)(1,2)\n",
    "\n",
    "P_11 = CNOT_top.compose(CNOT_bottom).compose(NOT_bottom)  #P_11 written in cyclic notstion is (0,1,2)\n",
    "\n",
    "#P_12_SWAP = SWAP_two.compose(NOT_top).compose(CNOT_bottom)\n",
    "\n",
    "P_12 = CNOT_top.compose(CNOT_bottom).compose(CNOT_top).compose(NOT_top).compose(CNOT_bottom)  #P_12 written in cyclic notstion is (0,2,1)\n",
    "\n",
    "P_13 = CNOT_bottom.compose(CNOT_top)  #P_13 written in cyclic notstion is (1,2,3)\n",
    "\n",
    "P_14 = CNOT_top.compose(CNOT_bottom) #P_14 written in cyclic notstion is (1,3,2)\n",
    "\n",
    "#P_15_SWAP = CNOT_bottom.compose(NOT_bottom).compose(SWAP_two)\n",
    "\n",
    "P_15 = CNOT_bottom.compose(NOT_bottom).compose(CNOT_top).compose(CNOT_bottom).compose(CNOT_top)  #P_15 written in cyclic notstion is (2,3,0)\n",
    "\n",
    "P_16 = NOT_top.compose(CNOT_bottom).compose(CNOT_top)  #P_16 written in cyclic notstion is (2,0,3)\n",
    "\n",
    "#P_17_SWAP = CNOT_top.compose(NOT_top).compose(SWAP_two)\n",
    "\n",
    "P_17 = CNOT_top.compose(NOT_top).compose(CNOT_top).compose(CNOT_bottom).compose(CNOT_top)  #P_17 written in cyclic notstion is (3,0,1)\n",
    "\n",
    "#P_18_SWAP = NOT_bottom.compose(CNOT_bottom).compose(SWAP_two)\n",
    "\n",
    "P_18 = NOT_bottom.compose(CNOT_bottom).compose(CNOT_top).compose(CNOT_bottom).compose(CNOT_top)  #P_18 written in cyclic notstion is (3,1,0)\n",
    "\n",
    "P_19 = CNOT_bottom.compose(NOT_bottom)  #P_19 written in cyclic notstion is (0,1,2,3)\n",
    "\n",
    "#P_20_SWAP = NOT_top.compose(SWAP_two)\n",
    "\n",
    "P_20 = NOT_top.compose(CNOT_top).compose(CNOT_bottom).compose(CNOT_top) #P_20 written in cyclic notstion is (0,1,3,2)\n",
    "\n",
    "P_21 = CNOT_top.compose(NOT_top)  #P_21 written in cyclic notstion is (0,2,1,3)\n",
    "\n",
    "#P_22_SWAP = NOT_bottom.compose(SWAP_two)\n",
    "\n",
    "P_22 = NOT_bottom.compose(CNOT_top).compose(CNOT_bottom).compose(CNOT_top)  #P_22 written in cyclic notstion is (0,2,3,1)\n",
    "\n",
    "P_23 = NOT_top.compose(CNOT_top)  #P_23 written in cyclic notstion is (0,3,1,2)\n",
    "\n",
    "P_24 = NOT_bottom.compose(CNOT_bottom)   #P_24 written in cyclic notstion is (0,3,2,1)"
   ]
  },
  {
   "cell_type": "code",
   "execution_count": 23,
   "id": "0b7c3acc-f14f-40c5-b969-ad9462ff0306",
   "metadata": {},
   "outputs": [],
   "source": [
    "#making a list of the permutation operators and define a function that calls the operators based on the index\n",
    "\n",
    "perm = [P_1,P_2, P_3, P_4, P_5, P_6, P_7, P_8, P_9, P_10, P_11, P_12, P_13, P_14, P_15, P_16, P_17, P_18, P_19, P_20, P_21, P_22, P_23, P_24]\n",
    "\n",
    "def Permutation(i):\n",
    "    if i in range (1, 25):\n",
    "        return perm[i-1]  \n",
    "    else:\n",
    "        raise ValueError('Please select i form 1 to 24')"
   ]
  },
  {
   "cell_type": "code",
   "execution_count": 24,
   "id": "02d61ace-09ed-4fae-b51b-5e233586319f",
   "metadata": {},
   "outputs": [],
   "source": [
    "#input the message and break it into chunks of 4 bits at a time (the message itself is 80 bits)\n",
    "\n",
    "message = '01001000011001010110110001101100011011110010000001000010011011110110001000100001'\n",
    "n = 4\n",
    "message_chunks = [message[i:i+n] for i in range(0, len(message), n)]\n",
    "\n",
    "#for y in range(len(message_chunks)):\n",
    "    #print(message_chunks[y])\n"
   ]
  },
  {
   "cell_type": "code",
   "execution_count": 25,
   "id": "ac64980b-057d-44f2-b31a-ebee67e0aded",
   "metadata": {},
   "outputs": [
    {
     "name": "stdout",
     "output_type": "stream",
     "text": [
      "[11, 5]\n"
     ]
    }
   ],
   "source": [
    "\n",
    "# create a list of randomly chosen 2 permutations out of 24 based on index \n",
    "#use python's seed and randint\n",
    "\n",
    "\n",
    "seed(7)\n",
    "listofindeces = []\n",
    "# generate some integers\n",
    "for _ in range(int(n/2)):\n",
    "    value = randint(1, 24)\n",
    "    listofindeces.append(value)\n",
    "    \n",
    "print(listofindeces)\n",
    "\n"
   ]
  },
  {
   "cell_type": "code",
   "execution_count": 26,
   "id": "9a13c371-9e80-4788-9b09-15161efa4024",
   "metadata": {},
   "outputs": [],
   "source": [
    "list_of_ciphers = []\n",
    "\n",
    "# create a circuit for encrypting the message chunks \n",
    "#initialize the qubits to the message chunks\n",
    "#for x in range(len(message_chunks)):\n",
    "for x in range(2):\n",
    "    state_vector = message_chunks[x][::-1]\n",
    "    qc = QuantumCircuit(n,n)\n",
    "# read qubits from right to left so '110' will be q[0] = 0, q[1] = 1, q[2]=1\n",
    "    qc.initialize(Statevector.from_label(state_vector))\n",
    "# apply gates bottom to top \n",
    "\n",
    "\n",
    "# appy the permutations two qubits at a time from top register to the bottom register using append command \n",
    "#first permutation in the list applies to top two qubits \n",
    "     \n",
    "    for i in range(0,n, 2):\n",
    "        index = int(i/2)\n",
    "        j = listofindeces[index]\n",
    "        qc.append(Permutation(j), [i,i+1])\n",
    "    \n",
    "    qc.measure([0,1,2,3], [0,1,2,3])  #measure the result \n",
    "    \n",
    "    qc.save_statevector()   # Tell simulator to save statevector\n",
    "\n",
    "#execute the circuit and store the final state in the list of ciphertext chunks   \n",
    "    simulator = Aer.get_backend('qasm_simulator')\n",
    "    result = execute(qc, backend = simulator, shots = 1024).result()\n",
    "    statevector = result.get_statevector()\n",
    "    list_of_ciphers.append(statevector)\n",
    "    \n",
    "# the statevectors can be printed out to check for the reslts "
   ]
  },
  {
   "cell_type": "code",
   "execution_count": null,
   "id": "3ca8d7c7-83c1-4b16-a650-03306fcc37ab",
   "metadata": {},
   "outputs": [],
   "source": [
    "### !!!Here we assume that the encrypting party sent their statevectors (ciphertext qubits) to the decrypting party over a quantum channel!!! "
   ]
  },
  {
   "cell_type": "code",
   "execution_count": 28,
   "id": "d3aba1dd-3046-4852-a8e4-39a7baa0b0b2",
   "metadata": {},
   "outputs": [
    {
     "name": "stdout",
     "output_type": "stream",
     "text": [
      "[11, 5]\n"
     ]
    }
   ],
   "source": [
    "#create a new circuit (sub-circuit) for permutations inverse for the decrypting party \n",
    "#create a list of randomly chosen permutations using the same seed \n",
    "#invert the subcircuit\n",
    "n = 4\n",
    "\n",
    "new_sub_qc = QuantumCircuit(n)\n",
    "\n",
    "seed(7)\n",
    "new_listofindeces = []\n",
    "# generate some integers\n",
    "for _ in range(int(n/2)):\n",
    "    new_value = randint(1, 24)\n",
    "    new_listofindeces.append(new_value)\n",
    "    \n",
    "print(new_listofindeces)\n",
    "\n",
    "for i in range(0,n, 2):\n",
    "    new_index = int(i/2)\n",
    "    j = new_listofindeces[new_index]\n",
    "    new_sub_qc.append(Permutation(j), [i,i+1])\n",
    "    \n",
    "inverse_sub_qc = new_sub_qc.inverse()\n",
    "   \n",
    "inverse_sub_inst = inverse_sub_qc.to_instruction()\n",
    "    \n",
    "#Note that this is not the only way to create inverse permuattion pad "
   ]
  },
  {
   "cell_type": "code",
   "execution_count": 29,
   "id": "27824573-c823-4f28-8c4d-9d3c3ed25042",
   "metadata": {},
   "outputs": [],
   "source": [
    "#take the list of ciphertexts and apply inverse of permutations chunk by chunk \n",
    "#save the final state vector chunks\n",
    "#append them to a list \n",
    "\n",
    "list_of_messages = []\n",
    "\n",
    "for x in range(len(list_of_ciphers)):\n",
    "    qc_decrypt = QuantumCircuit(n,n)\n",
    "    qc_decrypt.initialize(list_of_ciphers[x], range(n))\n",
    "    qc_decrypt.barrier()\n",
    "    qc_decrypt.append(inverse_sub_inst, range(n))\n",
    "    qc_decrypt.barrier()\n",
    "    qc_decrypt.measure([0,1,2,3], [0,1,2,3])\n",
    "    \n",
    "    qc_decrypt.save_statevector()   # Tell simulator to save statevector\n",
    "\n",
    "    simulator = Aer.get_backend('qasm_simulator')\n",
    "    result = execute(qc_decrypt, backend = simulator, shots = 1024).result()\n",
    "    statevector = result.get_statevector()\n",
    "    list_of_messages.append(statevector)\n",
    "   "
   ]
  },
  {
   "cell_type": "code",
   "execution_count": null,
   "id": "c75328dd-df78-4293-b249-3801b16501fb",
   "metadata": {},
   "outputs": [],
   "source": []
  }
 ],
 "metadata": {
  "kernelspec": {
   "display_name": "Qiskit v0.34.1 (ipykernel)",
   "language": "python",
   "name": "python3"
  },
  "language_info": {
   "codemirror_mode": {
    "name": "ipython",
    "version": 3
   },
   "file_extension": ".py",
   "mimetype": "text/x-python",
   "name": "python",
   "nbconvert_exporter": "python",
   "pygments_lexer": "ipython3",
   "version": "3.8.12"
  },
  "widgets": {
   "application/vnd.jupyter.widget-state+json": {
    "state": {
     "03ee8a7132d94d52a27024db4d153cc2": {
      "model_module": "@jupyter-widgets/controls",
      "model_module_version": "1.5.0",
      "model_name": "HBoxModel",
      "state": {
       "children": [
        "IPY_MODEL_e4c834b4d73a48d19af723bc53fc4ed5",
        "IPY_MODEL_faf0a3bed1ee4972929ca2aa7c789bd9",
        "IPY_MODEL_3ea5f7b572db40e5af6a7eeb9f28ce24",
        "IPY_MODEL_b31926018ee7477a97f9df3763690a68",
        "IPY_MODEL_77ff10a585a24f7aaa275c69e0cdca1c"
       ],
       "layout": "IPY_MODEL_6891455152b04b5bbd0fde14530d0729"
      }
     },
     "314bfa99d9cf40bd8758b347ba13731e": {
      "model_module": "@jupyter-widgets/controls",
      "model_module_version": "1.5.0",
      "model_name": "DescriptionStyleModel",
      "state": {
       "description_width": ""
      }
     },
     "3ea5f7b572db40e5af6a7eeb9f28ce24": {
      "model_module": "@jupyter-widgets/controls",
      "model_module_version": "1.5.0",
      "model_name": "HTMLModel",
      "state": {
       "layout": "IPY_MODEL_862d90a1f34f4cc1b4caea804168b601",
       "style": "IPY_MODEL_4cc951781a5d4061a59dd76ba5689063",
       "value": "<h5>Status</h5>"
      }
     },
     "3f3d6d266987456585688c42ebeb04d7": {
      "model_module": "@jupyter-widgets/controls",
      "model_module_version": "1.5.0",
      "model_name": "ButtonStyleModel",
      "state": {}
     },
     "44ad24feef6f45b18ab94f0f3abc735e": {
      "model_module": "@jupyter-widgets/controls",
      "model_module_version": "1.5.0",
      "model_name": "DescriptionStyleModel",
      "state": {
       "description_width": ""
      }
     },
     "4cc951781a5d4061a59dd76ba5689063": {
      "model_module": "@jupyter-widgets/controls",
      "model_module_version": "1.5.0",
      "model_name": "DescriptionStyleModel",
      "state": {
       "description_width": ""
      }
     },
     "4e22c13b73094ed2b305081f844e4775": {
      "model_module": "@jupyter-widgets/controls",
      "model_module_version": "1.5.0",
      "model_name": "HTMLModel",
      "state": {
       "layout": "IPY_MODEL_8496683be9fd4af490e428c4c8f915be",
       "style": "IPY_MODEL_d96f50401c17408eb63898bfa9576a8d",
       "value": "<p style='font-family: IBM Plex Sans, Arial, Helvetica, sans-serif; font-size: 20px; font-weight: medium;'>Circuit Properties</p>"
      }
     },
     "5e08c5183f5c403ca1fd6fdca2097a60": {
      "model_module": "@jupyter-widgets/controls",
      "model_module_version": "1.5.0",
      "model_name": "GridBoxModel",
      "state": {
       "children": [
        "IPY_MODEL_bdf192b6134b4d7e84282b97296b3166"
       ],
       "layout": "IPY_MODEL_bc1d1302b16a4ad5967c9203995625af"
      }
     },
     "6891455152b04b5bbd0fde14530d0729": {
      "model_module": "@jupyter-widgets/base",
      "model_module_version": "1.2.0",
      "model_name": "LayoutModel",
      "state": {
       "margin": "0px 0px 0px 37px",
       "width": "600px"
      }
     },
     "77ff10a585a24f7aaa275c69e0cdca1c": {
      "model_module": "@jupyter-widgets/controls",
      "model_module_version": "1.5.0",
      "model_name": "HTMLModel",
      "state": {
       "layout": "IPY_MODEL_c7ca4d53f056489492b37a0713a75c60",
       "style": "IPY_MODEL_314bfa99d9cf40bd8758b347ba13731e",
       "value": "<h5>Message</h5>"
      }
     },
     "7f848d059ceb42c3b0004a28aa3e094c": {
      "model_module": "@jupyter-widgets/base",
      "model_module_version": "1.2.0",
      "model_name": "LayoutModel",
      "state": {
       "grid_area": "right",
       "padding": "0px 0px 0px 0px",
       "width": "70px"
      }
     },
     "8496683be9fd4af490e428c4c8f915be": {
      "model_module": "@jupyter-widgets/base",
      "model_module_version": "1.2.0",
      "model_name": "LayoutModel",
      "state": {
       "margin": "0px 0px 10px 0px"
      }
     },
     "862d90a1f34f4cc1b4caea804168b601": {
      "model_module": "@jupyter-widgets/base",
      "model_module_version": "1.2.0",
      "model_name": "LayoutModel",
      "state": {
       "width": "95px"
      }
     },
     "aca76804707c44b9ac08ad7d07598fa5": {
      "model_module": "@jupyter-widgets/base",
      "model_module_version": "1.2.0",
      "model_name": "LayoutModel",
      "state": {
       "width": "145px"
      }
     },
     "b31926018ee7477a97f9df3763690a68": {
      "model_module": "@jupyter-widgets/controls",
      "model_module_version": "1.5.0",
      "model_name": "HTMLModel",
      "state": {
       "layout": "IPY_MODEL_fb3e83c8bb7a4f26a06e87935b346c37",
       "style": "IPY_MODEL_df5a45f3d0174f00b01614fd88410504",
       "value": "<h5>Queue</h5>"
      }
     },
     "bc1d1302b16a4ad5967c9203995625af": {
      "model_module": "@jupyter-widgets/base",
      "model_module_version": "1.2.0",
      "model_name": "LayoutModel",
      "state": {
       "grid_template_areas": "\n                                       \". . . . right \"\n                                        ",
       "grid_template_columns": "20% 20% 20% 20% 20%",
       "width": "100%"
      }
     },
     "bdf192b6134b4d7e84282b97296b3166": {
      "model_module": "@jupyter-widgets/controls",
      "model_module_version": "1.5.0",
      "model_name": "ButtonModel",
      "state": {
       "button_style": "primary",
       "description": "Clear",
       "layout": "IPY_MODEL_7f848d059ceb42c3b0004a28aa3e094c",
       "style": "IPY_MODEL_3f3d6d266987456585688c42ebeb04d7"
      }
     },
     "c7ca4d53f056489492b37a0713a75c60": {
      "model_module": "@jupyter-widgets/base",
      "model_module_version": "1.2.0",
      "model_name": "LayoutModel",
      "state": {}
     },
     "c84f84d4789d47f394bf3f4b5f6be82e": {
      "model_module": "@jupyter-widgets/controls",
      "model_module_version": "1.5.0",
      "model_name": "DescriptionStyleModel",
      "state": {
       "description_width": ""
      }
     },
     "d96f50401c17408eb63898bfa9576a8d": {
      "model_module": "@jupyter-widgets/controls",
      "model_module_version": "1.5.0",
      "model_name": "DescriptionStyleModel",
      "state": {
       "description_width": ""
      }
     },
     "df5a45f3d0174f00b01614fd88410504": {
      "model_module": "@jupyter-widgets/controls",
      "model_module_version": "1.5.0",
      "model_name": "DescriptionStyleModel",
      "state": {
       "description_width": ""
      }
     },
     "e4c834b4d73a48d19af723bc53fc4ed5": {
      "model_module": "@jupyter-widgets/controls",
      "model_module_version": "1.5.0",
      "model_name": "HTMLModel",
      "state": {
       "layout": "IPY_MODEL_f6fa6989ea324dccae046de78501538a",
       "style": "IPY_MODEL_c84f84d4789d47f394bf3f4b5f6be82e",
       "value": "<h5>Job ID</h5>"
      }
     },
     "f6fa6989ea324dccae046de78501538a": {
      "model_module": "@jupyter-widgets/base",
      "model_module_version": "1.2.0",
      "model_name": "LayoutModel",
      "state": {
       "width": "190px"
      }
     },
     "faf0a3bed1ee4972929ca2aa7c789bd9": {
      "model_module": "@jupyter-widgets/controls",
      "model_module_version": "1.5.0",
      "model_name": "HTMLModel",
      "state": {
       "layout": "IPY_MODEL_aca76804707c44b9ac08ad7d07598fa5",
       "style": "IPY_MODEL_44ad24feef6f45b18ab94f0f3abc735e",
       "value": "<h5>Backend</h5>"
      }
     },
     "fb3e83c8bb7a4f26a06e87935b346c37": {
      "model_module": "@jupyter-widgets/base",
      "model_module_version": "1.2.0",
      "model_name": "LayoutModel",
      "state": {
       "width": "70px"
      }
     }
    },
    "version_major": 2,
    "version_minor": 0
   }
  }
 },
 "nbformat": 4,
 "nbformat_minor": 5
}
