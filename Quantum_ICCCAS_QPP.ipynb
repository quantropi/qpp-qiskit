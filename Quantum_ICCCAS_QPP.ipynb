{
 "cells": [
  {
   "cell_type": "code",
   "execution_count": 2,
   "id": "7fc3c7e5-e8e7-45bd-9b83-2093acdcff78",
   "metadata": {},
   "outputs": [],
   "source": [
    "import numpy as np\n",
    "\n",
    "# Importing standard Qiskit libraries\n",
    "from qiskit import QuantumCircuit, transpile, Aer, IBMQ\n",
    "from qiskit.tools.jupyter import *\n",
    "from qiskit.visualization import *\n",
    "from ibm_quantum_widgets import *\n",
    "from qiskit.providers.aer import QasmSimulator\n",
    "\n",
    "# Loading your IBM Quantum account(s)\n",
    "provider = IBMQ.load_account()"
   ]
  },
  {
   "cell_type": "code",
   "execution_count": 3,
   "id": "9775eef1-918d-4503-9d99-c99acd72add2",
   "metadata": {},
   "outputs": [],
   "source": [
    "#import all the necessary packages \n",
    "\n",
    "from qiskit import execute\n",
    "from qiskit import QuantumCircuit, assemble, Aer\n",
    "from qiskit.visualization import plot_histogram, plot_bloch_vector\n",
    "from qiskit.extensions import RXGate, XGate, CXGate, SwapGate\n",
    "from qiskit import execute\n",
    "from qiskit import QuantumCircuit, ClassicalRegister, QuantumRegister\n",
    "from qiskit import BasicAer\n",
    "from qiskit.compiler import transpile\n",
    "from qiskit.quantum_info.operators import Operator, Pauli\n",
    "from qiskit.quantum_info import process_fidelity\n",
    "from qiskit.quantum_info import Statevector\n",
    "from random import seed\n",
    "from random import randint\n",
    "from qiskit import QuantumCircuit, transpile\n",
    "from qiskit.providers.aer import AerSimulator"
   ]
  },
  {
   "cell_type": "code",
   "execution_count": 4,
   "id": "f0dae39f-f747-4aae-9d5c-aecd4ceb0036",
   "metadata": {},
   "outputs": [],
   "source": [
    "#define the components of permutation matrices from circuits using operator command\n",
    "\n",
    "c_1 = QuantumCircuit(2)\n",
    "c_1.x(0)\n",
    "NOT_top = Operator(c_1)\n",
    "\n",
    "c_2 = QuantumCircuit(2)\n",
    "c_2.x(1)\n",
    "NOT_bottom = Operator(c_2)\n",
    "\n",
    "\n",
    "c_3 = QuantumCircuit(2)\n",
    "c_3.cx(0,1)\n",
    "CNOT_top = Operator(c_3)\n",
    "\n",
    "\n",
    "c_4 = QuantumCircuit(2)\n",
    "c_4.cx(1,0)\n",
    "CNOT_bottom = Operator(c_4)\n",
    "\n",
    "c_5 = QuantumCircuit(2)\n",
    "c_5.swap(0,1)\n",
    "SWAP_two = Operator(c_5)\n",
    "\n",
    "I_1 = Operator(Pauli(label = \"I\"))\n",
    "I_2 = Operator(Pauli(label = \"I\"))"
   ]
  },
  {
   "cell_type": "code",
   "execution_count": 5,
   "id": "a5084f88-cd5c-42df-897e-b721a21f5b1a",
   "metadata": {},
   "outputs": [],
   "source": [
    "#defne the permutation operators themselves using the above components\n",
    "\n",
    "\n",
    "P_1 = I_1.tensor(I_2) #P_1 is an identity\n",
    "\n",
    "P_2 = NOT_bottom.compose(CNOT_top)  #P_2 written in cyclic notation is (0,1) \n",
    "\n",
    "P_3 = NOT_top.compose(CNOT_bottom)  #P_3 written in cyclic notation is (0,2)  \n",
    "\n",
    "#P_4_SWAP = NOT_top.compose(NOT_bottom).compose(SWAP_two)\n",
    "\n",
    "P_4 = NOT_top.compose(NOT_bottom).compose(CNOT_top).compose(CNOT_bottom).compose(CNOT_top)  #P_4 written in cyclic notation is (0,3) \n",
    "\n",
    "#P_5_SWAP = SWAP_two\n",
    "\n",
    "P_5 = CNOT_top.compose(CNOT_bottom).compose(CNOT_top)  #P_5 written in cyclic nottion is (1,2)\n",
    "\n",
    "P_6 = CNOT_bottom  # P_6 written in cyclic notation is (1,3) \n",
    "\n",
    "P_7 = CNOT_top  #P_7 written in cyclic notation is (2,3) \n",
    "\n",
    "P_8 = NOT_bottom  #P_8 written in cyclic notstion is (0,1)(2,3) \n",
    "\n",
    "P_9 = NOT_top  #P_9 written in cyclic notstion is (0,2)(1,3)\n",
    "\n",
    "P_10 = NOT_top.compose(NOT_bottom)  #P_10 written in cyclic notation is (0,3)(1,2)\n",
    "\n",
    "P_11 = CNOT_top.compose(CNOT_bottom).compose(NOT_bottom)  #P_11 written in cyclic notstion is (0,1,2)\n",
    "\n",
    "#P_12_SWAP = SWAP_two.compose(NOT_top).compose(CNOT_bottom)\n",
    "\n",
    "P_12 = CNOT_top.compose(CNOT_bottom).compose(CNOT_top).compose(NOT_top).compose(CNOT_bottom)  #P_12 written in cyclic notstion is (0,2,1)\n",
    "\n",
    "P_13 = CNOT_bottom.compose(CNOT_top)  #P_13 written in cyclic notstion is (1,2,3)\n",
    "\n",
    "P_14 = CNOT_top.compose(CNOT_bottom) #P_14 written in cyclic notstion is (1,3,2)\n",
    "\n",
    "#P_15_SWAP = CNOT_bottom.compose(NOT_bottom).compose(SWAP_two)\n",
    "\n",
    "P_15 = CNOT_bottom.compose(NOT_bottom).compose(CNOT_top).compose(CNOT_bottom).compose(CNOT_top)  #P_15 written in cyclic notstion is (2,3,0)\n",
    "\n",
    "P_16 = NOT_top.compose(CNOT_bottom).compose(CNOT_top)  #P_16 written in cyclic notstion is (2,0,3)\n",
    "\n",
    "#P_17_SWAP = CNOT_top.compose(NOT_top).compose(SWAP_two)\n",
    "\n",
    "P_17 = CNOT_top.compose(NOT_top).compose(CNOT_top).compose(CNOT_bottom).compose(CNOT_top)  #P_17 written in cyclic notstion is (3,0,1)\n",
    "\n",
    "#P_18_SWAP = NOT_bottom.compose(CNOT_bottom).compose(SWAP_two)\n",
    "\n",
    "P_18 = NOT_bottom.compose(CNOT_bottom).compose(CNOT_top).compose(CNOT_bottom).compose(CNOT_top)  #P_18 written in cyclic notstion is (3,1,0)\n",
    "\n",
    "P_19 = CNOT_bottom.compose(NOT_bottom)  #P_19 written in cyclic notstion is (0,1,2,3)\n",
    "\n",
    "#P_20_SWAP = NOT_top.compose(SWAP_two)\n",
    "\n",
    "P_20 = NOT_top.compose(CNOT_top).compose(CNOT_bottom).compose(CNOT_top) #P_20 written in cyclic notstion is (0,1,3,2)\n",
    "\n",
    "P_21 = CNOT_top.compose(NOT_top)  #P_21 written in cyclic notstion is (0,2,1,3)\n",
    "\n",
    "#P_22_SWAP = NOT_bottom.compose(SWAP_two)\n",
    "\n",
    "P_22 = NOT_bottom.compose(CNOT_top).compose(CNOT_bottom).compose(CNOT_top)  #P_22 written in cyclic notstion is (0,2,3,1)\n",
    "\n",
    "P_23 = NOT_top.compose(CNOT_top)  #P_23 written in cyclic notstion is (0,3,1,2)\n",
    "\n",
    "P_24 = NOT_bottom.compose(CNOT_bottom)   #P_24 written in cyclic notstion is (0,3,2,1)"
   ]
  },
  {
   "cell_type": "code",
   "execution_count": 6,
   "id": "0b7c3acc-f14f-40c5-b969-ad9462ff0306",
   "metadata": {},
   "outputs": [],
   "source": [
    "#making a list of the permutation operators and define a function that calls the operators based on the index\n",
    "\n",
    "perm = [P_1,P_2, P_3, P_4, P_5, P_6, P_7, P_8, P_9, P_10, P_11, P_12, P_13, P_14, P_15, P_16, P_17, P_18, P_19, P_20, P_21, P_22, P_23, P_24]\n",
    "\n",
    "def Permutation(i):\n",
    "    if i in range (1, 25):\n",
    "        return perm[i-1]  \n",
    "    else:\n",
    "        raise ValueError('Please select i form 1 to 24')"
   ]
  },
  {
   "cell_type": "code",
   "execution_count": 9,
   "id": "02d61ace-09ed-4fae-b51b-5e233586319f",
   "metadata": {},
   "outputs": [],
   "source": [
    "#input the message and break it into chunks of 4 bits at a time (the message itself is 80 bits)\n",
    "\n",
    "message = '01001000011001010110110001101100011011110010000001000010011011110110001000100001'\n",
    "n = 4\n",
    "message_chunks = [message[i:i+n] for i in range(0, len(message), n)]\n",
    "\n",
    "#for y in range(len(message_chunks)):\n",
    "    #print(message_chunks[y])\n"
   ]
  },
  {
   "cell_type": "code",
   "execution_count": 11,
   "id": "ac64980b-057d-44f2-b31a-ebee67e0aded",
   "metadata": {},
   "outputs": [
    {
     "name": "stdout",
     "output_type": "stream",
     "text": [
      "[11, 5]\n"
     ]
    }
   ],
   "source": [
    "\n",
    "# create a list of randomly chosen 8 permutations out of 24 based on index \n",
    "#use python's seed and randint\n",
    "\n",
    "\n",
    "seed(7)\n",
    "listofindeces = []\n",
    "# generate some integers\n",
    "for _ in range(int(n/2)):\n",
    "    value = randint(1, 24)\n",
    "    listofindeces.append(value)\n",
    "    \n",
    "print(listofindeces)\n",
    "\n"
   ]
  },
  {
   "cell_type": "code",
   "execution_count": 10,
   "id": "9a13c371-9e80-4788-9b09-15161efa4024",
   "metadata": {},
   "outputs": [
    {
     "name": "stdout",
     "output_type": "stream",
     "text": [
      "Job Status: job has successfully run\n",
      "Job Status: job has successfully run\n",
      "Job Status: job has successfully run\n",
      "Job Status: job has successfully run\n",
      "Job Status: job has successfully run\n",
      "Job Status: job has successfully run\n",
      "Job Status: job has successfully run\n",
      "Job Status: job has successfully run\n",
      "Job Status: job has successfully run\n",
      "Job Status: job has successfully run\n",
      "Job Status: job has successfully run\n",
      "Job Status: job has successfully run\n",
      "Job Status: job has successfully run\n",
      "Job Status: job has successfully run\n",
      "Job Status: job has successfully run\n",
      "Job Status: job has successfully run\n",
      "Job Status: job has successfully run\n",
      "Job Status: job has successfully run\n",
      "Job Status: job has successfully run\n",
      "Job Status: job has successfully run\n"
     ]
    }
   ],
   "source": [
    "list_of_ciphers = []\n",
    "\n",
    "# create a circuit for encrypting the message chunks \n",
    "#initialize the qubits to the message chunks\n",
    "for x in range(len(message_chunks)):\n",
    "    state_vector = message_chunks[x][::-1]\n",
    "    qc = QuantumCircuit(n,n)\n",
    "# read qubits from right to left so '110' will be q[0] = 0, q[1] = 1, q[2]=1\n",
    "    qc.initialize(Statevector.from_label(state_vector))\n",
    "# apply gates bottom to top \n",
    "\n",
    "\n",
    "# appy the permutations two qubits at a time from top register to the bottom register using append command \n",
    "#first permutation in the list applies to top two qubits   \n",
    "    for i in range(0,n, 2):\n",
    "        index = int(i/2)\n",
    "        j = listofindeces[index]\n",
    "        qc.append(Permutation(j), [i,i+1])\n",
    "    #measure the result\n",
    "    qc.measure([0,1,2,3], [0,1,2,3])\n",
    "    \n",
    "#transpile the circuit to be able to run it on the quantum system\n",
    "    qc = transpile(qc, basis_gates=[\"u3\",\"u2\",\"u1\",\"cx\",\"id\",\"u0\",\"u\",\"p\",\"x\",\"y\",\"z\",\"h\",\"s\",\"sdg\",\"t\",\"tdg\",\"rx\",\"ry\",\"rz\",\"sx\",\"sxdg\",\"cz\",\"cy\",\"swap\",\"ch\",\"ccx\",\"cswap\",\"crx\",\"cry\",\"crz\",\"cu1\",\"cp\",\"cu3\",\"csx\",\"cu\",\"rxx\",\"rzz\",\"rccx\",\"rc3x\",\"c3x\",\"c3sqrtx\",\"c4x\"])\n",
    "\n",
    "#execute the circuit and store the final state in the list of ciphertext chunks   \n",
    "    qcomp = provider.get_backend('ibmq_belem')\n",
    "    job = execute(qc, backend=qcomp, shots = 1024)\n",
    "    from qiskit.tools.monitor import job_monitor\n",
    "    \n",
    "    job_monitor(job)\n",
    "    result = job.result()\n",
    "    counts  = result.get_counts(qc)\n",
    "    list_of_ciphers.append(counts.most_frequent())  #returns outcome with highest probability \n",
    "\n",
    "    #save the results in the list "
   ]
  },
  {
   "cell_type": "code",
   "execution_count": null,
   "id": "6c8710db-1279-4ae2-8669-2935caf09ea8",
   "metadata": {},
   "outputs": [],
   "source": [
    "### !!! Here we assume the encrypting party send the classical ciphertext bits after measurement to the decrypting party!!! "
   ]
  },
  {
   "cell_type": "code",
   "execution_count": 12,
   "id": "d3aba1dd-3046-4852-a8e4-39a7baa0b0b2",
   "metadata": {},
   "outputs": [
    {
     "name": "stdout",
     "output_type": "stream",
     "text": [
      "[11, 5]\n"
     ]
    }
   ],
   "source": [
    "#create a new circuit (sub-circuit) for permutations inverse for the decrypting party \n",
    "#create a list of randomly chosen permutations using the same seed \n",
    "#invert the subcircuit\n",
    "n = 4\n",
    "\n",
    "new_sub_qc = QuantumCircuit(n)\n",
    "\n",
    "seed(7)\n",
    "new_listofindeces = []\n",
    "# generate some integers\n",
    "for _ in range(int(n/2)):\n",
    "    new_value = randint(1, 24)\n",
    "    new_listofindeces.append(new_value)\n",
    "    \n",
    "print(new_listofindeces)\n",
    "\n",
    "for i in range(0,n, 2):\n",
    "    new_index = int(i/2)\n",
    "    j = new_listofindeces[new_index]\n",
    "    new_sub_qc.append(Permutation(j), [i,i+1])\n",
    "    \n",
    "inverse_sub_qc = new_sub_qc.inverse()\n",
    "\n",
    "inverse_sub_inst = inverse_sub_qc.to_instruction()\n",
    "\n",
    "\n",
    "#The inverse of the QPP pad can be created using different approaches - this is one of them "
   ]
  },
  {
   "cell_type": "code",
   "execution_count": 24,
   "id": "742ed04d-3f0a-48ad-8b2f-71350dba1e26",
   "metadata": {},
   "outputs": [
    {
     "name": "stdout",
     "output_type": "stream",
     "text": [
      "1010\n",
      "0110\n",
      "1000\n",
      "1001\n",
      "1000\n",
      "0010\n",
      "1000\n",
      "0010\n",
      "1000\n",
      "0011\n",
      "1100\n",
      "1110\n",
      "1010\n",
      "1100\n",
      "1000\n",
      "0011\n",
      "1000\n",
      "1100\n",
      "1100\n",
      "1101\n"
     ]
    }
   ],
   "source": [
    "cipher = '10100110100010011000001010000010100000111100111010101100100000111000110011001101'\n",
    "cipher_chunks = [cipher [i:i+n] for i in range(0, len(cipher), n)]\n",
    "\n",
    "#for y in range(len(cipher_chunks)):\n",
    "    #print(cipher_chunks[y])"
   ]
  },
  {
   "cell_type": "code",
   "execution_count": null,
   "id": "27824573-c823-4f28-8c4d-9d3c3ed25042",
   "metadata": {},
   "outputs": [
    {
     "name": "stdout",
     "output_type": "stream",
     "text": [
      "Job Status: job has successfully run\n",
      "Job Status: job has successfully run\n",
      "Job Status: job has successfully run\n",
      "Job Status: job has successfully run\n",
      "Job Status: job is queued (5)     "
     ]
    }
   ],
   "source": [
    "#take the list of ciphertexts and apply inverse of permutations chunk by chunk \n",
    "#save the final state vector chunks\n",
    "#append them to a list \n",
    "\n",
    "list_of_messages = []\n",
    "\n",
    "for x in range(len(cipher_chunks)):\n",
    "    state_vector_dc = cipher_chunks[x][::-1]\n",
    "    qc_decrypt = QuantumCircuit(n,n)\n",
    "# read qubits from right to left so '110' will be q[0] = 0, q[1] = 1, q[2]=1\n",
    "    qc_decrypt.initialize(Statevector.from_label(state_vector_dc))\n",
    "    qc_decrypt.barrier()\n",
    "    qc_decrypt.append(inverse_sub_inst, range(n))\n",
    "    qc_decrypt.barrier()\n",
    "    qc_decrypt.measure([0,1,2,3], [0,1,2,3])\n",
    "    \n",
    "    #transpile the circuit to be able to run it on the quantum computer \n",
    "    qc_decrypt = transpile(qc_decrypt, basis_gates=[\"u3\",\"u2\",\"u1\",\"cx\",\"id\",\"u0\",\"u\",\"p\",\"x\",\"y\",\"z\",\"h\",\"s\",\"sdg\",\"t\",\"tdg\",\"rx\",\"ry\",\"rz\",\"sx\",\"sxdg\",\"cz\",\"cy\",\"swap\",\"ch\",\"ccx\",\"cswap\",\"crx\",\"cry\",\"crz\",\"cu1\",\"cp\",\"cu3\",\"csx\",\"cu\",\"rxx\",\"rzz\",\"rccx\",\"rc3x\",\"c3x\",\"c3sqrtx\",\"c4x\"])\n",
    "\n",
    "    qcomp = provider.get_backend('ibmq_lima')\n",
    "    job = execute(qc_decrypt, backend=qcomp, shots = 1024)\n",
    "    from qiskit.tools.monitor import job_monitor\n",
    "    \n",
    "    job_monitor(job)\n",
    "    result = job.result()\n",
    "    counts  = result.get_counts(qc_decrypt)\n",
    "    list_of_messages.append(counts.most_frequent()) #will append only the outcomes with the highest probability \n",
    "\n",
    "   "
   ]
  }
 ],
 "metadata": {
  "kernelspec": {
   "display_name": "Qiskit v0.34.1 (ipykernel)",
   "language": "python",
   "name": "python3"
  },
  "language_info": {
   "codemirror_mode": {
    "name": "ipython",
    "version": 3
   },
   "file_extension": ".py",
   "mimetype": "text/x-python",
   "name": "python",
   "nbconvert_exporter": "python",
   "pygments_lexer": "ipython3",
   "version": "3.8.12"
  },
  "widgets": {
   "application/vnd.jupyter.widget-state+json": {
    "state": {
     "0ac2163baab44bb08fef9bd0ce27681f": {
      "model_module": "@jupyter-widgets/controls",
      "model_module_version": "1.5.0",
      "model_name": "ButtonStyleModel",
      "state": {}
     },
     "135e49cc7e31401b8f914bdc0befeee7": {
      "model_module": "@jupyter-widgets/base",
      "model_module_version": "1.2.0",
      "model_name": "LayoutModel",
      "state": {
       "width": "95px"
      }
     },
     "27ec4307124e43168133042d9ebc713f": {
      "model_module": "@jupyter-widgets/controls",
      "model_module_version": "1.5.0",
      "model_name": "HTMLModel",
      "state": {
       "layout": "IPY_MODEL_faca4c8d1d0b4105aac0038590b644d6",
       "style": "IPY_MODEL_b85d895427db4b40a57789a087b188d3",
       "value": "<h5>Message</h5>"
      }
     },
     "350a140f2f19488cbb3a0e5754a38d46": {
      "model_module": "@jupyter-widgets/controls",
      "model_module_version": "1.5.0",
      "model_name": "ButtonModel",
      "state": {
       "button_style": "primary",
       "description": "Clear",
       "layout": "IPY_MODEL_a5662dc76d7644779ba62fb726272482",
       "style": "IPY_MODEL_0ac2163baab44bb08fef9bd0ce27681f"
      }
     },
     "43ed953e7a0c487098b141d511b4c88c": {
      "model_module": "@jupyter-widgets/controls",
      "model_module_version": "1.5.0",
      "model_name": "DescriptionStyleModel",
      "state": {
       "description_width": ""
      }
     },
     "494009a712364bc9944e13d8a883f62b": {
      "model_module": "@jupyter-widgets/controls",
      "model_module_version": "1.5.0",
      "model_name": "HTMLModel",
      "state": {
       "layout": "IPY_MODEL_135e49cc7e31401b8f914bdc0befeee7",
       "style": "IPY_MODEL_c5cc52b1545a49e6b160c1bad412f8ec",
       "value": "<h5>Status</h5>"
      }
     },
     "4aebc24a03c7430f8084eb3bbc89c354": {
      "model_module": "@jupyter-widgets/controls",
      "model_module_version": "1.5.0",
      "model_name": "DescriptionStyleModel",
      "state": {
       "description_width": ""
      }
     },
     "56f343f7ee2e48e7aa690c45bdc78e59": {
      "model_module": "@jupyter-widgets/controls",
      "model_module_version": "1.5.0",
      "model_name": "DescriptionStyleModel",
      "state": {
       "description_width": ""
      }
     },
     "58c0591f07bb4bffbef1028aedffcdd9": {
      "model_module": "@jupyter-widgets/base",
      "model_module_version": "1.2.0",
      "model_name": "LayoutModel",
      "state": {
       "grid_template_areas": "\n                                       \". . . . right \"\n                                        ",
       "grid_template_columns": "20% 20% 20% 20% 20%",
       "width": "100%"
      }
     },
     "58cfb03dba014d30a59850617727e35b": {
      "model_module": "@jupyter-widgets/controls",
      "model_module_version": "1.5.0",
      "model_name": "HTMLModel",
      "state": {
       "layout": "IPY_MODEL_6dfb55dc8218402fb0e66b36e2330655",
       "style": "IPY_MODEL_e15747e2bbe04dc493586a8311085a3f",
       "value": "<h5>Backend</h5>"
      }
     },
     "5904aeee805f4c189c2eb333ff436797": {
      "model_module": "@jupyter-widgets/base",
      "model_module_version": "1.2.0",
      "model_name": "LayoutModel",
      "state": {
       "margin": "0px 0px 0px 37px",
       "width": "600px"
      }
     },
     "6a8301c37b9141e895fb8cb127be640f": {
      "model_module": "@jupyter-widgets/base",
      "model_module_version": "1.2.0",
      "model_name": "LayoutModel",
      "state": {
       "margin": "0px 0px 10px 0px"
      }
     },
     "6b0b7dff8d3f455cb8918a5de11667f1": {
      "model_module": "@jupyter-widgets/controls",
      "model_module_version": "1.5.0",
      "model_name": "HTMLModel",
      "state": {
       "layout": "IPY_MODEL_6ce219c0f9d045599f1c51b4d9b257e2",
       "style": "IPY_MODEL_56f343f7ee2e48e7aa690c45bdc78e59",
       "value": "<h5>Queue</h5>"
      }
     },
     "6ce219c0f9d045599f1c51b4d9b257e2": {
      "model_module": "@jupyter-widgets/base",
      "model_module_version": "1.2.0",
      "model_name": "LayoutModel",
      "state": {
       "width": "70px"
      }
     },
     "6dfb55dc8218402fb0e66b36e2330655": {
      "model_module": "@jupyter-widgets/base",
      "model_module_version": "1.2.0",
      "model_name": "LayoutModel",
      "state": {
       "width": "145px"
      }
     },
     "807224c8701248d2a62fdba635b5a8a1": {
      "model_module": "@jupyter-widgets/base",
      "model_module_version": "1.2.0",
      "model_name": "LayoutModel",
      "state": {
       "width": "190px"
      }
     },
     "84f5aab4786a4d3f85202a5b64282ab6": {
      "model_module": "@jupyter-widgets/controls",
      "model_module_version": "1.5.0",
      "model_name": "HTMLModel",
      "state": {
       "layout": "IPY_MODEL_807224c8701248d2a62fdba635b5a8a1",
       "style": "IPY_MODEL_4aebc24a03c7430f8084eb3bbc89c354",
       "value": "<h5>Job ID</h5>"
      }
     },
     "8d1d5e492f274fbab8e960f8177aa950": {
      "model_module": "@jupyter-widgets/controls",
      "model_module_version": "1.5.0",
      "model_name": "HBoxModel",
      "state": {
       "children": [
        "IPY_MODEL_84f5aab4786a4d3f85202a5b64282ab6",
        "IPY_MODEL_58cfb03dba014d30a59850617727e35b",
        "IPY_MODEL_494009a712364bc9944e13d8a883f62b",
        "IPY_MODEL_6b0b7dff8d3f455cb8918a5de11667f1",
        "IPY_MODEL_27ec4307124e43168133042d9ebc713f"
       ],
       "layout": "IPY_MODEL_5904aeee805f4c189c2eb333ff436797"
      }
     },
     "a5662dc76d7644779ba62fb726272482": {
      "model_module": "@jupyter-widgets/base",
      "model_module_version": "1.2.0",
      "model_name": "LayoutModel",
      "state": {
       "grid_area": "right",
       "padding": "0px 0px 0px 0px",
       "width": "70px"
      }
     },
     "b85d895427db4b40a57789a087b188d3": {
      "model_module": "@jupyter-widgets/controls",
      "model_module_version": "1.5.0",
      "model_name": "DescriptionStyleModel",
      "state": {
       "description_width": ""
      }
     },
     "bdc44914b0864bad9fb8f61d2d94d502": {
      "model_module": "@jupyter-widgets/controls",
      "model_module_version": "1.5.0",
      "model_name": "HTMLModel",
      "state": {
       "layout": "IPY_MODEL_6a8301c37b9141e895fb8cb127be640f",
       "style": "IPY_MODEL_43ed953e7a0c487098b141d511b4c88c",
       "value": "<p style='font-family: IBM Plex Sans, Arial, Helvetica, sans-serif; font-size: 20px; font-weight: medium;'>Circuit Properties</p>"
      }
     },
     "c5cc52b1545a49e6b160c1bad412f8ec": {
      "model_module": "@jupyter-widgets/controls",
      "model_module_version": "1.5.0",
      "model_name": "DescriptionStyleModel",
      "state": {
       "description_width": ""
      }
     },
     "e15747e2bbe04dc493586a8311085a3f": {
      "model_module": "@jupyter-widgets/controls",
      "model_module_version": "1.5.0",
      "model_name": "DescriptionStyleModel",
      "state": {
       "description_width": ""
      }
     },
     "e307b61b2d104b5a9634ff167156d36f": {
      "model_module": "@jupyter-widgets/controls",
      "model_module_version": "1.5.0",
      "model_name": "GridBoxModel",
      "state": {
       "children": [
        "IPY_MODEL_350a140f2f19488cbb3a0e5754a38d46"
       ],
       "layout": "IPY_MODEL_58c0591f07bb4bffbef1028aedffcdd9"
      }
     },
     "faca4c8d1d0b4105aac0038590b644d6": {
      "model_module": "@jupyter-widgets/base",
      "model_module_version": "1.2.0",
      "model_name": "LayoutModel",
      "state": {}
     }
    },
    "version_major": 2,
    "version_minor": 0
   }
  }
 },
 "nbformat": 4,
 "nbformat_minor": 5
}
